{
 "cells": [
  {
   "cell_type": "code",
   "execution_count": 1,
   "metadata": {},
   "outputs": [],
   "source": [
    "import json\n",
    "bert_original_path = \"/home/deokhk/coursework/CIGAR/data/image_retrieval/generated_captions/augmented_0.0_bert.json\"\n",
    "Nhot_original_path = \"/home/deokhk/coursework/CIGAR/data/image_retrieval/generated_captions/augmented_0.0_one-hot.json\""
   ]
  },
  {
   "cell_type": "code",
   "execution_count": 2,
   "metadata": {},
   "outputs": [],
   "source": [
    "with open(bert_original_path, 'r') as f:\n",
    "    bert_data = json.load(f)\n",
    "\n",
    "with open(Nhot_original_path, 'r') as f:\n",
    "    onehot_data = json.load(f)"
   ]
  },
  {
   "cell_type": "code",
   "execution_count": null,
   "metadata": {},
   "outputs": [],
   "source": [
    "threshold = 0.5\n",
    "bert_filtered = []\n",
    "onehot_filtered = []\n",
    "for elem in bert_data:\n",
    "    if elem[\"threshold\"] >= threshold:\n",
    "        "
   ]
  }
 ],
 "metadata": {
  "interpreter": {
   "hash": "d517ee5949e90b9fbb24ca2ab377a682cf8faf243dd4996213ae250603e08120"
  },
  "kernelspec": {
   "display_name": "Python 3.8.13 ('LS': conda)",
   "language": "python",
   "name": "python3"
  },
  "language_info": {
   "codemirror_mode": {
    "name": "ipython",
    "version": 3
   },
   "file_extension": ".py",
   "mimetype": "text/x-python",
   "name": "python",
   "nbconvert_exporter": "python",
   "pygments_lexer": "ipython3",
   "version": "3.8.13"
  },
  "orig_nbformat": 4
 },
 "nbformat": 4,
 "nbformat_minor": 2
}
